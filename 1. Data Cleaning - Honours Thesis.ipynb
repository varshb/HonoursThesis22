{
 "cells": [
  {
   "cell_type": "markdown",
   "metadata": {},
   "source": [
    "## Imports"
   ]
  },
  {
   "cell_type": "code",
   "execution_count": 1,
   "metadata": {},
   "outputs": [],
   "source": [
    "from math import *\n",
    "import numpy as np\n",
    "import pandas as pd\n",
    "\n",
    "#to read theb data\n",
    "from pathlib import Path\n",
    "import glob \n",
    "\n",
    "#for plots\n",
    "import matplotlib.pyplot as plt\n",
    "import seaborn as sns\n",
    "\n",
    "#stats\n",
    "from scipy.stats import kurtosis\n"
   ]
  },
  {
   "cell_type": "markdown",
   "metadata": {},
   "source": [
    "------------------"
   ]
  },
  {
   "cell_type": "markdown",
   "metadata": {},
   "source": [
    "## Reading the Data"
   ]
  },
  {
   "cell_type": "code",
   "execution_count": 2,
   "metadata": {},
   "outputs": [
    {
     "name": "stdout",
     "output_type": "stream",
     "text": [
      "<class 'pandas.core.frame.DataFrame'>\n",
      "Int64Index: 4302 entries, 0 to 339\n",
      "Data columns (total 6 columns):\n",
      " #   Column                                Non-Null Count  Dtype  \n",
      "---  ------                                --------------  -----  \n",
      " 0   Product code                          4302 non-null   object \n",
      " 1   Bureau of Meteorology station number  4302 non-null   int64  \n",
      " 2   Year                                  4302 non-null   int64  \n",
      " 3   Month                                 4302 non-null   int64  \n",
      " 4   Mean maximum temperature (°C)         4302 non-null   float64\n",
      " 5   Quality                               4302 non-null   object \n",
      "dtypes: float64(1), int64(3), object(2)\n",
      "memory usage: 235.3+ KB\n"
     ]
    }
   ],
   "source": [
    "# Reading the data\n",
    "path = r'C:/Users/varsh/OneDrive/Desktop/Honours/Data'\n",
    "all_files = glob.glob(path + \"/*.csv\")\n",
    "path\n",
    "all_files\n",
    "\n",
    "#Concatanating the individual datasets into one dataframe\n",
    "df = pd.concat((pd.read_csv(f) for f in all_files))\n",
    "\n",
    "df.info()"
   ]
  },
  {
   "cell_type": "markdown",
   "metadata": {},
   "source": [
    "------------------"
   ]
  },
  {
   "cell_type": "markdown",
   "metadata": {},
   "source": [
    "## Data Cleaning"
   ]
  },
  {
   "cell_type": "code",
   "execution_count": 3,
   "metadata": {},
   "outputs": [],
   "source": [
    "#renaming columns \n",
    "df = df.rename(columns = {'Bureau of Meteorology station number':'stationNumber',\n",
    "                          'Mean maximum temperature (°C)': 'meanMaxTemp',\n",
    "                         'Year':'year',\n",
    "                         'Month':'month'})"
   ]
  },
  {
   "cell_type": "code",
   "execution_count": 4,
   "metadata": {},
   "outputs": [],
   "source": [
    "#recoding month numbers to their names\n",
    "df[\"month\"] = df[\"month\"].replace(np.arange(1,13), [\"Jan\", \"Feb\", \"Mar\", \"Apr\", \"May\", \"Jun\", \"Jul\", \"Aug\", \"Sept\", \n",
    "                                                   \"Oct\", \"Nov\", \"Dec\"])"
   ]
  },
  {
   "cell_type": "code",
   "execution_count": 5,
   "metadata": {},
   "outputs": [],
   "source": [
    "#setting the month columns as a categorical and imposing an order so it is automatically arranged sequentially,\n",
    "#this is particularly useful for charts\n",
    "#this will also allow us to see any missing data\n",
    "df[\"month\"] = pd.Categorical(df[\"month\"], \n",
    "                      categories=[\"Jan\", \"Feb\", \"Mar\",\"Apr\", \"May\", \"Jun\", \"Jul\", \"Aug\", \"Sept\", \n",
    "                      \"Oct\", \"Nov\",\"Dec\"],\n",
    "                      ordered=True)"
   ]
  },
  {
   "cell_type": "code",
   "execution_count": 6,
   "metadata": {},
   "outputs": [
    {
     "data": {
      "text/plain": [
       "array([66062, 66124, 66137, 66214, 67033, 67105], dtype=int64)"
      ]
     },
     "execution_count": 6,
     "metadata": {},
     "output_type": "execute_result"
    }
   ],
   "source": [
    "#use the station number to add a locations column \n",
    "df['stationNumber'].unique()"
   ]
  },
  {
   "cell_type": "code",
   "execution_count": 7,
   "metadata": {},
   "outputs": [],
   "source": [
    "#adding a location column that generalises the station location as Sydney, Richmond or Bankstown\n",
    "df['location'] = ['Sydney' if (x == 66062 or x == 66214)  else \n",
    "                  'Richmond' if (x == 67105 or x == 67033) else \n",
    "                  'Parramatta' if (x == 66124) else\n",
    "                  \"Bankstown\" for x in df['stationNumber']]\n"
   ]
  },
  {
   "cell_type": "code",
   "execution_count": 8,
   "metadata": {},
   "outputs": [
    {
     "data": {
      "text/plain": [
       "location\n",
       "Bankstown      648\n",
       "Parramatta     654\n",
       "Richmond      1008\n",
       "Sydney        1992\n",
       "Name: year, dtype: int64"
      ]
     },
     "execution_count": 8,
     "metadata": {},
     "output_type": "execute_result"
    }
   ],
   "source": [
    "df.groupby('location')[\"year\"].count()"
   ]
  },
  {
   "cell_type": "markdown",
   "metadata": {},
   "source": [
    "### Dealing with Duplicates"
   ]
  },
  {
   "cell_type": "code",
   "execution_count": 9,
   "metadata": {},
   "outputs": [
    {
     "data": {
      "text/html": [
       "<div>\n",
       "<style scoped>\n",
       "    .dataframe tbody tr th:only-of-type {\n",
       "        vertical-align: middle;\n",
       "    }\n",
       "\n",
       "    .dataframe tbody tr th {\n",
       "        vertical-align: top;\n",
       "    }\n",
       "\n",
       "    .dataframe thead th {\n",
       "        text-align: right;\n",
       "    }\n",
       "</style>\n",
       "<table border=\"1\" class=\"dataframe\">\n",
       "  <thead>\n",
       "    <tr style=\"text-align: right;\">\n",
       "      <th></th>\n",
       "      <th>Product code</th>\n",
       "      <th>stationNumber</th>\n",
       "      <th>year</th>\n",
       "      <th>month</th>\n",
       "      <th>meanMaxTemp</th>\n",
       "      <th>Quality</th>\n",
       "      <th>location</th>\n",
       "    </tr>\n",
       "  </thead>\n",
       "  <tbody>\n",
       "    <tr>\n",
       "      <th>1905</th>\n",
       "      <td>IDCJAC0002</td>\n",
       "      <td>66062</td>\n",
       "      <td>2017</td>\n",
       "      <td>Oct</td>\n",
       "      <td>24.0</td>\n",
       "      <td>Y</td>\n",
       "      <td>Sydney</td>\n",
       "    </tr>\n",
       "    <tr>\n",
       "      <th>1906</th>\n",
       "      <td>IDCJAC0002</td>\n",
       "      <td>66062</td>\n",
       "      <td>2017</td>\n",
       "      <td>Nov</td>\n",
       "      <td>23.8</td>\n",
       "      <td>Y</td>\n",
       "      <td>Sydney</td>\n",
       "    </tr>\n",
       "    <tr>\n",
       "      <th>1907</th>\n",
       "      <td>IDCJAC0002</td>\n",
       "      <td>66062</td>\n",
       "      <td>2017</td>\n",
       "      <td>Dec</td>\n",
       "      <td>27.8</td>\n",
       "      <td>Y</td>\n",
       "      <td>Sydney</td>\n",
       "    </tr>\n",
       "    <tr>\n",
       "      <th>0</th>\n",
       "      <td>IDCJAC0002</td>\n",
       "      <td>66214</td>\n",
       "      <td>2017</td>\n",
       "      <td>Oct</td>\n",
       "      <td>24.9</td>\n",
       "      <td>Y</td>\n",
       "      <td>Sydney</td>\n",
       "    </tr>\n",
       "    <tr>\n",
       "      <th>1</th>\n",
       "      <td>IDCJAC0002</td>\n",
       "      <td>66214</td>\n",
       "      <td>2017</td>\n",
       "      <td>Nov</td>\n",
       "      <td>24.8</td>\n",
       "      <td>Y</td>\n",
       "      <td>Sydney</td>\n",
       "    </tr>\n",
       "    <tr>\n",
       "      <th>2</th>\n",
       "      <td>IDCJAC0002</td>\n",
       "      <td>66214</td>\n",
       "      <td>2017</td>\n",
       "      <td>Dec</td>\n",
       "      <td>28.6</td>\n",
       "      <td>Y</td>\n",
       "      <td>Sydney</td>\n",
       "    </tr>\n",
       "  </tbody>\n",
       "</table>\n",
       "</div>"
      ],
      "text/plain": [
       "     Product code  stationNumber  year month  meanMaxTemp Quality location\n",
       "1905   IDCJAC0002          66062  2017   Oct         24.0       Y   Sydney\n",
       "1906   IDCJAC0002          66062  2017   Nov         23.8       Y   Sydney\n",
       "1907   IDCJAC0002          66062  2017   Dec         27.8       Y   Sydney\n",
       "0      IDCJAC0002          66214  2017   Oct         24.9       Y   Sydney\n",
       "1      IDCJAC0002          66214  2017   Nov         24.8       Y   Sydney\n",
       "2      IDCJAC0002          66214  2017   Dec         28.6       Y   Sydney"
      ]
     },
     "execution_count": 9,
     "metadata": {},
     "output_type": "execute_result"
    }
   ],
   "source": [
    "#as the data for Sydney and Richmond both come from 2 stations, there is an overlap in data for some months.\n",
    "#for example, in 2017:\n",
    "dupes = df[df.duplicated(subset=['location','year','month'], keep=False)]\n",
    "dupes[dupes.year == 2017]"
   ]
  },
  {
   "cell_type": "code",
   "execution_count": 10,
   "metadata": {},
   "outputs": [
    {
     "data": {
      "text/html": [
       "<div>\n",
       "<style scoped>\n",
       "    .dataframe tbody tr th:only-of-type {\n",
       "        vertical-align: middle;\n",
       "    }\n",
       "\n",
       "    .dataframe tbody tr th {\n",
       "        vertical-align: top;\n",
       "    }\n",
       "\n",
       "    .dataframe thead th {\n",
       "        text-align: right;\n",
       "    }\n",
       "</style>\n",
       "<table border=\"1\" class=\"dataframe\">\n",
       "  <thead>\n",
       "    <tr style=\"text-align: right;\">\n",
       "      <th></th>\n",
       "      <th>location</th>\n",
       "      <th>year</th>\n",
       "      <th>month</th>\n",
       "      <th>stationNumber</th>\n",
       "      <th>meanMaxTemp</th>\n",
       "    </tr>\n",
       "  </thead>\n",
       "  <tbody>\n",
       "    <tr>\n",
       "      <th>7800</th>\n",
       "      <td>Sydney</td>\n",
       "      <td>2017</td>\n",
       "      <td>Jan</td>\n",
       "      <td>66062.0</td>\n",
       "      <td>29.60</td>\n",
       "    </tr>\n",
       "    <tr>\n",
       "      <th>7801</th>\n",
       "      <td>Sydney</td>\n",
       "      <td>2017</td>\n",
       "      <td>Feb</td>\n",
       "      <td>66062.0</td>\n",
       "      <td>28.50</td>\n",
       "    </tr>\n",
       "    <tr>\n",
       "      <th>7802</th>\n",
       "      <td>Sydney</td>\n",
       "      <td>2017</td>\n",
       "      <td>Mar</td>\n",
       "      <td>66062.0</td>\n",
       "      <td>25.60</td>\n",
       "    </tr>\n",
       "    <tr>\n",
       "      <th>7803</th>\n",
       "      <td>Sydney</td>\n",
       "      <td>2017</td>\n",
       "      <td>Apr</td>\n",
       "      <td>66062.0</td>\n",
       "      <td>23.80</td>\n",
       "    </tr>\n",
       "    <tr>\n",
       "      <th>7804</th>\n",
       "      <td>Sydney</td>\n",
       "      <td>2017</td>\n",
       "      <td>May</td>\n",
       "      <td>66062.0</td>\n",
       "      <td>21.20</td>\n",
       "    </tr>\n",
       "    <tr>\n",
       "      <th>7805</th>\n",
       "      <td>Sydney</td>\n",
       "      <td>2017</td>\n",
       "      <td>Jun</td>\n",
       "      <td>66062.0</td>\n",
       "      <td>18.20</td>\n",
       "    </tr>\n",
       "    <tr>\n",
       "      <th>7806</th>\n",
       "      <td>Sydney</td>\n",
       "      <td>2017</td>\n",
       "      <td>Jul</td>\n",
       "      <td>66062.0</td>\n",
       "      <td>19.10</td>\n",
       "    </tr>\n",
       "    <tr>\n",
       "      <th>7807</th>\n",
       "      <td>Sydney</td>\n",
       "      <td>2017</td>\n",
       "      <td>Aug</td>\n",
       "      <td>66062.0</td>\n",
       "      <td>19.50</td>\n",
       "    </tr>\n",
       "    <tr>\n",
       "      <th>7808</th>\n",
       "      <td>Sydney</td>\n",
       "      <td>2017</td>\n",
       "      <td>Sept</td>\n",
       "      <td>66062.0</td>\n",
       "      <td>23.30</td>\n",
       "    </tr>\n",
       "    <tr>\n",
       "      <th>7809</th>\n",
       "      <td>Sydney</td>\n",
       "      <td>2017</td>\n",
       "      <td>Oct</td>\n",
       "      <td>66138.0</td>\n",
       "      <td>24.45</td>\n",
       "    </tr>\n",
       "    <tr>\n",
       "      <th>7810</th>\n",
       "      <td>Sydney</td>\n",
       "      <td>2017</td>\n",
       "      <td>Nov</td>\n",
       "      <td>66138.0</td>\n",
       "      <td>24.30</td>\n",
       "    </tr>\n",
       "    <tr>\n",
       "      <th>7811</th>\n",
       "      <td>Sydney</td>\n",
       "      <td>2017</td>\n",
       "      <td>Dec</td>\n",
       "      <td>66138.0</td>\n",
       "      <td>28.20</td>\n",
       "    </tr>\n",
       "  </tbody>\n",
       "</table>\n",
       "</div>"
      ],
      "text/plain": [
       "     location  year month  stationNumber  meanMaxTemp\n",
       "7800   Sydney  2017   Jan        66062.0        29.60\n",
       "7801   Sydney  2017   Feb        66062.0        28.50\n",
       "7802   Sydney  2017   Mar        66062.0        25.60\n",
       "7803   Sydney  2017   Apr        66062.0        23.80\n",
       "7804   Sydney  2017   May        66062.0        21.20\n",
       "7805   Sydney  2017   Jun        66062.0        18.20\n",
       "7806   Sydney  2017   Jul        66062.0        19.10\n",
       "7807   Sydney  2017   Aug        66062.0        19.50\n",
       "7808   Sydney  2017  Sept        66062.0        23.30\n",
       "7809   Sydney  2017   Oct        66138.0        24.45\n",
       "7810   Sydney  2017   Nov        66138.0        24.30\n",
       "7811   Sydney  2017   Dec        66138.0        28.20"
      ]
     },
     "execution_count": 10,
     "metadata": {},
     "output_type": "execute_result"
    }
   ],
   "source": [
    "#to overcome this, we will replace the duplicate rows with averages of the meanMaxTemp\n",
    "df = df.groupby(['location','year','month']).mean().reset_index()\n",
    "\n",
    "#no more duplicates!!\n",
    "df[(df.year == 2017) & (df.location == \"Sydney\")]"
   ]
  },
  {
   "cell_type": "code",
   "execution_count": 11,
   "metadata": {},
   "outputs": [],
   "source": [
    "#after combining the columns, some of the rows are out of order so we sort all the columns\n",
    "df.sort_values(by=['location','year', 'month'], inplace=True, ignore_index=True)"
   ]
  },
  {
   "cell_type": "markdown",
   "metadata": {},
   "source": [
    "### Defining the 2 Periods"
   ]
  },
  {
   "cell_type": "markdown",
   "metadata": {},
   "source": [
    "For comparision, we will look at all of the datasets from 1967. They will be split into two periods:\n",
    "* 1962 - 1991\n",
    "* 1992 - 2021\n",
    "\n",
    "This will also allow us to see the accelerated changes in the recent in the last climate period.\n",
    "\n",
    "The Bankstown dataset begins at 1968, so we will have to adjust the periods for:\n",
    "* 1969 - 1994\n",
    "* 1995 - 2021\n",
    "\n",
    "The Parramatta dataset begins at 1967, so we will have to adjust the periods for:\n",
    "* 1968 - 1994\n",
    "* 1995 - 2021\n",
    "\n",
    "Summer years are defined by the year of the January month. For instance, summer 2021 captures the months Dec 2020 to Mar 2021."
   ]
  },
  {
   "cell_type": "code",
   "execution_count": 12,
   "metadata": {},
   "outputs": [],
   "source": [
    "#remove data before  1961 dec\n",
    "df = df[df['year'] >= 1961]\n",
    "\n",
    "#remove Bankstown data before  1968 dec\n",
    "df = df[(df['location']!= \"Bankstown\") | (df['year'] >= 1968)]\n",
    "\n",
    "#remove parramatta data before  1967 dec\n",
    "df = df[(df['location']!= \"Parramatta\") | (df['year'] >= 1967)]\n",
    "\n",
    "\n",
    "#define the summer years in new column sYear\n",
    "months = df.month.unique()[:11]\n",
    "for i in months:\n",
    "    df[\"sYear\"] = df.loc[df[\"month\"] == i, \"year\"] \n",
    "\n",
    "df[\"sYear\"].bfill(inplace = True)"
   ]
  },
  {
   "cell_type": "code",
   "execution_count": 13,
   "metadata": {},
   "outputs": [],
   "source": [
    "#define a new column, period, which categorises the years into the 2 periods\n",
    "df['period'] = df['sYear'].apply(lambda x: '1962-1991' if x <= 1991 else '1992-2021')\n",
    "\n",
    "df.loc[df.location == \"Bankstown\",'period'] = df['sYear'].apply(lambda x: '1969-1994' if x <= 1994 else '1995-2021')\n",
    "df.loc[df.location == \"Parramatta\",'period'] = df['sYear'].apply(lambda x: '1968-1994' if x <= 1994 else '1995-2021')"
   ]
  },
  {
   "cell_type": "markdown",
   "metadata": {},
   "source": [
    "### Dealing with Missing Values"
   ]
  },
  {
   "cell_type": "code",
   "execution_count": 14,
   "metadata": {},
   "outputs": [
    {
     "data": {
      "text/html": [
       "<div>\n",
       "<style scoped>\n",
       "    .dataframe tbody tr th:only-of-type {\n",
       "        vertical-align: middle;\n",
       "    }\n",
       "\n",
       "    .dataframe tbody tr th {\n",
       "        vertical-align: top;\n",
       "    }\n",
       "\n",
       "    .dataframe thead th {\n",
       "        text-align: right;\n",
       "    }\n",
       "</style>\n",
       "<table border=\"1\" class=\"dataframe\">\n",
       "  <thead>\n",
       "    <tr style=\"text-align: right;\">\n",
       "      <th></th>\n",
       "      <th>location</th>\n",
       "      <th>year</th>\n",
       "      <th>month</th>\n",
       "      <th>stationNumber</th>\n",
       "      <th>meanMaxTemp</th>\n",
       "      <th>sYear</th>\n",
       "      <th>period</th>\n",
       "    </tr>\n",
       "  </thead>\n",
       "  <tbody>\n",
       "    <tr>\n",
       "      <th>1308</th>\n",
       "      <td>Bankstown</td>\n",
       "      <td>1968</td>\n",
       "      <td>Jan</td>\n",
       "      <td>NaN</td>\n",
       "      <td>NaN</td>\n",
       "      <td>1968.0</td>\n",
       "      <td>1969-1994</td>\n",
       "    </tr>\n",
       "    <tr>\n",
       "      <th>1309</th>\n",
       "      <td>Bankstown</td>\n",
       "      <td>1968</td>\n",
       "      <td>Feb</td>\n",
       "      <td>NaN</td>\n",
       "      <td>NaN</td>\n",
       "      <td>1968.0</td>\n",
       "      <td>1969-1994</td>\n",
       "    </tr>\n",
       "    <tr>\n",
       "      <th>1310</th>\n",
       "      <td>Bankstown</td>\n",
       "      <td>1968</td>\n",
       "      <td>Mar</td>\n",
       "      <td>NaN</td>\n",
       "      <td>NaN</td>\n",
       "      <td>1968.0</td>\n",
       "      <td>1969-1994</td>\n",
       "    </tr>\n",
       "    <tr>\n",
       "      <th>1311</th>\n",
       "      <td>Bankstown</td>\n",
       "      <td>1968</td>\n",
       "      <td>Apr</td>\n",
       "      <td>NaN</td>\n",
       "      <td>NaN</td>\n",
       "      <td>1968.0</td>\n",
       "      <td>1969-1994</td>\n",
       "    </tr>\n",
       "    <tr>\n",
       "      <th>1312</th>\n",
       "      <td>Bankstown</td>\n",
       "      <td>1968</td>\n",
       "      <td>May</td>\n",
       "      <td>NaN</td>\n",
       "      <td>NaN</td>\n",
       "      <td>1968.0</td>\n",
       "      <td>1969-1994</td>\n",
       "    </tr>\n",
       "    <tr>\n",
       "      <th>1313</th>\n",
       "      <td>Bankstown</td>\n",
       "      <td>1968</td>\n",
       "      <td>Jun</td>\n",
       "      <td>NaN</td>\n",
       "      <td>NaN</td>\n",
       "      <td>1968.0</td>\n",
       "      <td>1969-1994</td>\n",
       "    </tr>\n",
       "    <tr>\n",
       "      <th>1602</th>\n",
       "      <td>Bankstown</td>\n",
       "      <td>1992</td>\n",
       "      <td>Jul</td>\n",
       "      <td>NaN</td>\n",
       "      <td>NaN</td>\n",
       "      <td>1992.0</td>\n",
       "      <td>1969-1994</td>\n",
       "    </tr>\n",
       "    <tr>\n",
       "      <th>3264</th>\n",
       "      <td>Parramatta</td>\n",
       "      <td>1967</td>\n",
       "      <td>Jan</td>\n",
       "      <td>NaN</td>\n",
       "      <td>NaN</td>\n",
       "      <td>1967.0</td>\n",
       "      <td>1968-1994</td>\n",
       "    </tr>\n",
       "    <tr>\n",
       "      <th>3265</th>\n",
       "      <td>Parramatta</td>\n",
       "      <td>1967</td>\n",
       "      <td>Feb</td>\n",
       "      <td>NaN</td>\n",
       "      <td>NaN</td>\n",
       "      <td>1967.0</td>\n",
       "      <td>1968-1994</td>\n",
       "    </tr>\n",
       "    <tr>\n",
       "      <th>3266</th>\n",
       "      <td>Parramatta</td>\n",
       "      <td>1967</td>\n",
       "      <td>Mar</td>\n",
       "      <td>NaN</td>\n",
       "      <td>NaN</td>\n",
       "      <td>1967.0</td>\n",
       "      <td>1968-1994</td>\n",
       "    </tr>\n",
       "    <tr>\n",
       "      <th>3267</th>\n",
       "      <td>Parramatta</td>\n",
       "      <td>1967</td>\n",
       "      <td>Apr</td>\n",
       "      <td>NaN</td>\n",
       "      <td>NaN</td>\n",
       "      <td>1967.0</td>\n",
       "      <td>1968-1994</td>\n",
       "    </tr>\n",
       "    <tr>\n",
       "      <th>3268</th>\n",
       "      <td>Parramatta</td>\n",
       "      <td>1967</td>\n",
       "      <td>May</td>\n",
       "      <td>NaN</td>\n",
       "      <td>NaN</td>\n",
       "      <td>1967.0</td>\n",
       "      <td>1968-1994</td>\n",
       "    </tr>\n",
       "    <tr>\n",
       "      <th>3300</th>\n",
       "      <td>Parramatta</td>\n",
       "      <td>1970</td>\n",
       "      <td>Jan</td>\n",
       "      <td>NaN</td>\n",
       "      <td>NaN</td>\n",
       "      <td>1970.0</td>\n",
       "      <td>1968-1994</td>\n",
       "    </tr>\n",
       "    <tr>\n",
       "      <th>3304</th>\n",
       "      <td>Parramatta</td>\n",
       "      <td>1970</td>\n",
       "      <td>May</td>\n",
       "      <td>NaN</td>\n",
       "      <td>NaN</td>\n",
       "      <td>1970.0</td>\n",
       "      <td>1968-1994</td>\n",
       "    </tr>\n",
       "    <tr>\n",
       "      <th>3327</th>\n",
       "      <td>Parramatta</td>\n",
       "      <td>1972</td>\n",
       "      <td>Apr</td>\n",
       "      <td>NaN</td>\n",
       "      <td>NaN</td>\n",
       "      <td>1972.0</td>\n",
       "      <td>1968-1994</td>\n",
       "    </tr>\n",
       "  </tbody>\n",
       "</table>\n",
       "</div>"
      ],
      "text/plain": [
       "        location  year month  stationNumber  meanMaxTemp   sYear     period\n",
       "1308   Bankstown  1968   Jan            NaN          NaN  1968.0  1969-1994\n",
       "1309   Bankstown  1968   Feb            NaN          NaN  1968.0  1969-1994\n",
       "1310   Bankstown  1968   Mar            NaN          NaN  1968.0  1969-1994\n",
       "1311   Bankstown  1968   Apr            NaN          NaN  1968.0  1969-1994\n",
       "1312   Bankstown  1968   May            NaN          NaN  1968.0  1969-1994\n",
       "1313   Bankstown  1968   Jun            NaN          NaN  1968.0  1969-1994\n",
       "1602   Bankstown  1992   Jul            NaN          NaN  1992.0  1969-1994\n",
       "3264  Parramatta  1967   Jan            NaN          NaN  1967.0  1968-1994\n",
       "3265  Parramatta  1967   Feb            NaN          NaN  1967.0  1968-1994\n",
       "3266  Parramatta  1967   Mar            NaN          NaN  1967.0  1968-1994\n",
       "3267  Parramatta  1967   Apr            NaN          NaN  1967.0  1968-1994\n",
       "3268  Parramatta  1967   May            NaN          NaN  1967.0  1968-1994\n",
       "3300  Parramatta  1970   Jan            NaN          NaN  1970.0  1968-1994\n",
       "3304  Parramatta  1970   May            NaN          NaN  1970.0  1968-1994\n",
       "3327  Parramatta  1972   Apr            NaN          NaN  1972.0  1968-1994"
      ]
     },
     "execution_count": 14,
     "metadata": {},
     "output_type": "execute_result"
    }
   ],
   "source": [
    "#find the missing data after Dec 1967\n",
    "df[(df.meanMaxTemp.isna()) & ((df.year < 2022))]"
   ]
  },
  {
   "cell_type": "code",
   "execution_count": 15,
   "metadata": {},
   "outputs": [],
   "source": [
    "#get the temperatures of the years before and after the NaN value and use the average of it to fill\n",
    "df['meanMaxTemp'] = (((df.groupby(['location','month'], sort=False)['meanMaxTemp']\n",
    "                       .apply(lambda x: x.bfill().add(x.ffill()).div(2)))))\n",
    "    \n",
    "#the missing months in 1967 don't get filled as there is no previous year data for it to backwards fill on. \n",
    "#For these months, we will take the averages from 1968/69 for the missing months.\n",
    "\n",
    "#add a column call rollmean2 that calculates the rolling mean for 2 months of a year backwards. ie, Jan 1967 would have\n",
    "# a rollmean value that is the average of Jan 1968 and 1969\n",
    "df['rollmean2'] = (((df.groupby(['location','month'], sort=False)['meanMaxTemp']\n",
    "                       .apply(lambda x: x.rolling(2,center=False,min_periods=1).mean().shift(-2)))))\n",
    "#replace the remaining missing values with the rollmean ones\n",
    "df['meanMaxTemp'] = df['meanMaxTemp'].fillna(df['rollmean2'])\n",
    "\n",
    "#drop the rollmean2 column after\n",
    "df.drop(columns = ['rollmean2'], inplace = True)\n",
    "\n",
    "#remove any rows without data\n",
    "df.dropna(axis = 0, subset = ['meanMaxTemp'], inplace = True)"
   ]
  },
  {
   "cell_type": "code",
   "execution_count": 16,
   "metadata": {},
   "outputs": [],
   "source": [
    "df[\"periodNum\"] = 1\n",
    "df.loc[(((df.location == \"Bankstown\") |(df.location == \"Parramatta\")) & (df.period == \"1995-2021\")), \"periodNum\"] = 2\n",
    "\n",
    "df.loc[((df.location != \"Bankstown\") & (df.period == \"1992-2021\")), \"periodNum\"] = 2"
   ]
  },
  {
   "cell_type": "code",
   "execution_count": 17,
   "metadata": {},
   "outputs": [],
   "source": [
    "df = df[df.sYear < 2022]"
   ]
  },
  {
   "cell_type": "code",
   "execution_count": 18,
   "metadata": {},
   "outputs": [],
   "source": [
    "#filter the dataframe to include only months from Dec - Mar\n",
    "summerMonths = ['Dec','Jan','Feb','Mar']\n",
    "summerData = df[(df['month'].isin(summerMonths)) & (df.sYear != 2022)].copy()\n",
    "\n",
    "#this also picks up Jan, Feb and Mar from 1960 so we have to drop those \n",
    "i = summerData[((summerData.year == 1961) & (summerData.month != \"Dec\"))].index\n",
    "\n",
    "#drop Jan, Feb and Mar from 1968 Bankstown data\n",
    "j = summerData[((summerData.year == 1968) & (summerData.month != \"Dec\") & (summerData.location == \"Bankstown\"))].index\n",
    "\n",
    "#drop Jan, Feb and Mar from 1967 Parramatta data\n",
    "k = summerData[((summerData.year == 1967) & (summerData.month != \"Dec\") & (summerData.location == \"Parramatta\"))].index\n",
    "\n",
    "\n",
    "summerData.drop(i, inplace = True)\n",
    "summerData.drop(j, inplace = True)\n",
    "summerData.drop(k, inplace = True)"
   ]
  },
  {
   "cell_type": "code",
   "execution_count": 19,
   "metadata": {},
   "outputs": [],
   "source": [
    "#change the month to categorical so we can order the data from Dec - Mar, this is just for visualisation purposes\n",
    "summerData[\"month\"] = pd.Categorical(summerData[\"month\"], \n",
    "                      categories=[\"Dec\", \"Jan\", \"Feb\", \"Mar\"],\n",
    "                      ordered=True)\n",
    "\n",
    "summerData[\"location\"] = pd.Categorical(summerData[\"location\"], \n",
    "                      categories=[\"Sydney\", \"Bankstown\",\"Parramatta\", \"Richmond\"],\n",
    "                      ordered=True)"
   ]
  },
  {
   "cell_type": "code",
   "execution_count": 20,
   "metadata": {},
   "outputs": [],
   "source": [
    "summerDataSyd = summerData[summerData.location == \"Sydney\"]\n",
    "summerDataBank = summerData[summerData.location == \"Bankstown\"]\n",
    "summerDataRich = summerData[summerData.location == \"Richmond\"]\n",
    "summerDataParra = summerData[summerData.location == \"Parramatta\"]"
   ]
  },
  {
   "cell_type": "code",
   "execution_count": 21,
   "metadata": {},
   "outputs": [],
   "source": [
    "#export the datasets\n",
    "df.to_csv('df.csv')\n",
    "\n",
    "summerData.to_csv('summerData.csv')\n",
    "summerDataSyd.to_csv('summerDataSyd.csv')\n",
    "summerDataBank.to_csv('summerDataBank.csv')\n",
    "summerDataRich.to_csv('summerDataRich.csv')\n",
    "summerDataParra.to_csv('summerDataParra.csv')\n"
   ]
  },
  {
   "cell_type": "code",
   "execution_count": null,
   "metadata": {},
   "outputs": [],
   "source": []
  }
 ],
 "metadata": {
  "kernelspec": {
   "display_name": "Python 3",
   "language": "python",
   "name": "python3"
  },
  "language_info": {
   "codemirror_mode": {
    "name": "ipython",
    "version": 3
   },
   "file_extension": ".py",
   "mimetype": "text/x-python",
   "name": "python",
   "nbconvert_exporter": "python",
   "pygments_lexer": "ipython3",
   "version": "3.8.3"
  }
 },
 "nbformat": 4,
 "nbformat_minor": 4
}
